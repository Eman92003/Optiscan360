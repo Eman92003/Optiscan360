{
  "nbformat": 4,
  "nbformat_minor": 0,
  "metadata": {
    "colab": {
      "provenance": []
    },
    "kernelspec": {
      "name": "python3",
      "display_name": "Python 3"
    },
    "language_info": {
      "name": "python"
    }
  },
  "cells": [
    {
      "cell_type": "code",
      "execution_count": null,
      "metadata": {
        "id": "E-p8qCWySeKM"
      },
      "outputs": [],
      "source": []
    },
    {
      "cell_type": "code",
      "execution_count": null,
      "metadata": {
        "colab": {
          "base_uri": "https://localhost:8080/"
        },
        "id": "eS4Gufnjc-3i",
        "outputId": "04945bf7-0eaa-4e77-ad83-2794afd4f99c"
      },
      "outputs": [
        {
          "output_type": "stream",
          "name": "stdout",
          "text": [
            "Requirement already satisfied: split-folders in /usr/local/lib/python3.10/dist-packages (0.5.1)\n"
          ]
        }
      ],
      "source": [
        "pip install split-folders"
      ]
    },
    {
      "cell_type": "code",
      "execution_count": null,
      "metadata": {
        "id": "_MsPdWvMgX_O"
      },
      "outputs": [],
      "source": [
        "import tensorflow as tf\n",
        "from tensorflow.keras.applications.xception import Xception\n",
        "from tensorflow.keras.layers import Dense, GlobalAveragePooling2D\n",
        "from tensorflow.keras.models import Model\n",
        "from tensorflow.keras.optimizers import SGD, Adam\n",
        "from tensorflow.keras.preprocessing.image import ImageDataGenerator"
      ]
    },
    {
      "cell_type": "code",
      "execution_count": null,
      "metadata": {
        "colab": {
          "base_uri": "https://localhost:8080/"
        },
        "id": "JfduyG05gK3m",
        "outputId": "5d9e3330-25f5-42e3-a61c-fb311cf1f607"
      },
      "outputs": [
        {
          "output_type": "stream",
          "name": "stderr",
          "text": [
            "Copying files: 15630 files [14:06, 18.46 files/s] \n"
          ]
        }
      ],
      "source": [
        "import splitfolders\n",
        "basic_data = '/content/drive/MyDrive/project'\n",
        "splitfolders.ratio(basic_data , output = \"output_dataset\" , seed=1337 , ratio=(0.8,0.1,0.1) , group_prefix=None)"
      ]
    },
    {
      "cell_type": "code",
      "execution_count": null,
      "metadata": {
        "id": "Fmp12jOPgQiK"
      },
      "outputs": [],
      "source": [
        "train_path = '/content/output_dataset/train'\n",
        "validation_path ='/content/output_dataset/val'\n",
        "test_path = '/content/output_dataset/test'"
      ]
    },
    {
      "cell_type": "code",
      "execution_count": null,
      "metadata": {
        "colab": {
          "base_uri": "https://localhost:8080/"
        },
        "id": "xqArmLr9H4Qq",
        "outputId": "84932427-e9b4-4177-aaa3-001e698470d2"
      },
      "outputs": [
        {
          "output_type": "stream",
          "name": "stdout",
          "text": [
            "Downloading data from https://storage.googleapis.com/tensorflow/keras-applications/xception/xception_weights_tf_dim_ordering_tf_kernels_notop.h5\n",
            "83683744/83683744 [==============================] - 0s 0us/step\n"
          ]
        },
        {
          "output_type": "stream",
          "name": "stderr",
          "text": [
            "WARNING:absl:`lr` is deprecated in Keras optimizer, please use `learning_rate` or use the legacy optimizer, e.g.,tf.keras.optimizers.legacy.Adam.\n"
          ]
        }
      ],
      "source": [
        "\n",
        "base_model = Xception(weights='imagenet', include_top=False, input_shape=(256, 256, 3))\n",
        "x = base_model.output\n",
        "x = GlobalAveragePooling2D()(x)\n",
        "x = Dense(512, activation='relu')(x)\n",
        "predictions = Dense(1, activation='sigmoid')(x)  # Change here\n",
        "model = Model(inputs=base_model.input, outputs=predictions)\n",
        "\n",
        "# Compiling the CNN\n",
        "opt = Adam(lr =0.01)\n",
        "model.compile(optimizer = opt , loss = 'binary_crossentropy', metrics = ['accuracy'])"
      ]
    },
    {
      "cell_type": "code",
      "execution_count": null,
      "metadata": {
        "id": "nDxuNMS0gl8v"
      },
      "outputs": [],
      "source": [
        "train_datagen = ImageDataGenerator(rescale=1./255,\n",
        "                                   shear_range=0.2,\n",
        "                                   zoom_range=0.2,\n",
        "                                   horizontal_flip=True)\n",
        "\n",
        "validation_datagen = ImageDataGenerator(rescale=1./255)"
      ]
    },
    {
      "cell_type": "code",
      "execution_count": null,
      "metadata": {
        "colab": {
          "base_uri": "https://localhost:8080/"
        },
        "id": "xF0nfFg-goum",
        "outputId": "769211dd-0832-4211-df06-102e623ae1bc"
      },
      "outputs": [
        {
          "output_type": "stream",
          "name": "stdout",
          "text": [
            "Found 12503 images belonging to 2 classes.\n",
            "Found 1562 images belonging to 2 classes.\n"
          ]
        }
      ],
      "source": [
        "train_generator = train_datagen.flow_from_directory('/content/output_dataset/train',\n",
        "                                                    target_size=(256,256),\n",
        "                                                    batch_size=64,\n",
        "                                                    class_mode='binary')\n",
        "\n",
        "validation_generator = validation_datagen.flow_from_directory('/content/output_dataset/val',\n",
        "                                                              target_size=(256 , 256),\n",
        "                                                              batch_size=64,\n",
        "                                                              class_mode='binary')"
      ]
    },
    {
      "cell_type": "code",
      "execution_count": null,
      "metadata": {
        "colab": {
          "base_uri": "https://localhost:8080/"
        },
        "id": "FB-6W18Ugxo2",
        "outputId": "91676135-7cca-4810-fcbf-363b01192479"
      },
      "outputs": [
        {
          "output_type": "stream",
          "name": "stdout",
          "text": [
            "Epoch 1/15\n",
            "196/196 [==============================] - 399s 2s/step - loss: 0.3623 - accuracy: 0.8411 - val_loss: 0.3189 - val_accuracy: 0.8956\n",
            "Epoch 2/15\n",
            "196/196 [==============================] - 353s 2s/step - loss: 0.2492 - accuracy: 0.9008 - val_loss: 0.2888 - val_accuracy: 0.8988\n",
            "Epoch 3/15\n",
            "196/196 [==============================] - 352s 2s/step - loss: 0.2095 - accuracy: 0.9175 - val_loss: 0.2401 - val_accuracy: 0.9033\n",
            "Epoch 4/15\n",
            "196/196 [==============================] - 357s 2s/step - loss: 0.1624 - accuracy: 0.9391 - val_loss: 0.9118 - val_accuracy: 0.6671\n",
            "Epoch 5/15\n",
            "196/196 [==============================] - 357s 2s/step - loss: 0.1482 - accuracy: 0.9447 - val_loss: 0.2970 - val_accuracy: 0.8969\n",
            "Epoch 6/15\n",
            "196/196 [==============================] - 364s 2s/step - loss: 0.1202 - accuracy: 0.9559 - val_loss: 0.3309 - val_accuracy: 0.8988\n",
            "Epoch 7/15\n",
            "196/196 [==============================] - 361s 2s/step - loss: 0.0979 - accuracy: 0.9642 - val_loss: 0.1142 - val_accuracy: 0.9577\n",
            "Epoch 8/15\n",
            "196/196 [==============================] - 373s 2s/step - loss: 0.0846 - accuracy: 0.9686 - val_loss: 0.1948 - val_accuracy: 0.9334\n",
            "Epoch 9/15\n",
            "196/196 [==============================] - 355s 2s/step - loss: 0.0649 - accuracy: 0.9758 - val_loss: 0.3303 - val_accuracy: 0.9373\n",
            "Epoch 10/15\n",
            "196/196 [==============================] - 355s 2s/step - loss: 0.0612 - accuracy: 0.9779 - val_loss: 0.1395 - val_accuracy: 0.9469\n",
            "Epoch 11/15\n",
            "196/196 [==============================] - 362s 2s/step - loss: 0.0589 - accuracy: 0.9788 - val_loss: 0.8895 - val_accuracy: 0.8457\n",
            "Epoch 12/15\n",
            "196/196 [==============================] - 373s 2s/step - loss: 0.0486 - accuracy: 0.9828 - val_loss: 0.1893 - val_accuracy: 0.9309\n",
            "Epoch 13/15\n",
            "196/196 [==============================] - 349s 2s/step - loss: 0.0472 - accuracy: 0.9834 - val_loss: 0.0953 - val_accuracy: 0.9693\n",
            "Epoch 14/15\n",
            "196/196 [==============================] - 353s 2s/step - loss: 0.0535 - accuracy: 0.9818 - val_loss: 0.4086 - val_accuracy: 0.8726\n",
            "Epoch 15/15\n",
            "196/196 [==============================] - 352s 2s/step - loss: 0.0402 - accuracy: 0.9870 - val_loss: 0.0832 - val_accuracy: 0.9699\n"
          ]
        }
      ],
      "source": [
        "history = model.fit(train_generator,\n",
        "          steps_per_epoch = len(train_generator),\n",
        "          epochs = 15,\n",
        "          validation_data=validation_generator,\n",
        "          validation_steps = len(validation_generator))"
      ]
    },
    {
      "cell_type": "code",
      "execution_count": null,
      "metadata": {
        "id": "U6FqhG7Cg3QC",
        "colab": {
          "base_uri": "https://localhost:8080/"
        },
        "outputId": "1e2d6a40-5ac7-4715-b007-5fe966e3d445"
      },
      "outputs": [
        {
          "output_type": "stream",
          "name": "stdout",
          "text": [
            "Found 1565 images belonging to 2 classes.\n"
          ]
        }
      ],
      "source": [
        "test_datagen = ImageDataGenerator(rescale=1./255)\n",
        "test_generator = test_datagen.flow_from_directory('/content/output_dataset/test',\n",
        "                                            target_size = (256,256),\n",
        "                                            batch_size = 64,\n",
        "                                            class_mode = 'binary',\n",
        "                                            shuffle = False)"
      ]
    },
    {
      "cell_type": "code",
      "execution_count": null,
      "metadata": {
        "id": "SAZ_GKmSg5zN",
        "colab": {
          "base_uri": "https://localhost:8080/"
        },
        "outputId": "cbaf877e-194b-4b66-caec-3863c42294aa"
      },
      "outputs": [
        {
          "output_type": "stream",
          "name": "stdout",
          "text": [
            "25/25 [==============================] - 17s 664ms/step - loss: 0.1356 - accuracy: 0.9629\n",
            "test accuracy: 0.9629393219947815\n",
            "test loss: 0.13557998836040497\n"
          ]
        }
      ],
      "source": [
        "test_loss, test_acc = model.evaluate(test_generator, steps=len(test_generator))\n",
        "print('test accuracy:',test_acc )\n",
        "print('test loss:',test_loss)"
      ]
    },
    {
      "cell_type": "code",
      "execution_count": null,
      "metadata": {
        "id": "3sffqFcDg8Kw"
      },
      "outputs": [],
      "source": [
        "from tensorflow.keras.models import load_model\n",
        "from tensorflow.keras.preprocessing.image import load_img,img_to_array\n",
        "from sklearn.metrics import classification_report, confusion_matrix\n",
        "import numpy as np"
      ]
    },
    {
      "cell_type": "code",
      "source": [
        "y_pred = model.predict(test_generator, workers = 0)\n",
        "# For binary classification, we round the predictions to get the class\n",
        "y_pred_classes = y_pred.round().astype(int)\n",
        "\n",
        "y_true = test_generator.classes[test_generator.index_array]\n",
        "class_names = list(test_generator.class_indices.keys())\n"
      ],
      "metadata": {
        "colab": {
          "base_uri": "https://localhost:8080/"
        },
        "id": "N2Am3gCmu6uf",
        "outputId": "a4252a31-ee9a-4329-e81b-9d92a0394da6"
      },
      "execution_count": null,
      "outputs": [
        {
          "output_type": "stream",
          "name": "stdout",
          "text": [
            "25/25 [==============================] - 14s 552ms/step\n"
          ]
        }
      ]
    },
    {
      "cell_type": "code",
      "source": [
        "# Print the confusion matrix\n",
        "print(\"Confusion Matrix:\")\n",
        "print(confusion_matrix(y_true, y_pred_classes))"
      ],
      "metadata": {
        "colab": {
          "base_uri": "https://localhost:8080/"
        },
        "id": "HVrsO4QXue5f",
        "outputId": "ad0fa0b9-3724-4bce-ab5b-74b9675e7661"
      },
      "execution_count": null,
      "outputs": [
        {
          "output_type": "stream",
          "name": "stdout",
          "text": [
            "Confusion Matrix:\n",
            "[[732  32]\n",
            " [ 26 775]]\n"
          ]
        }
      ]
    },
    {
      "cell_type": "code",
      "source": [
        "# Print the classification report\n",
        "print(\"Classification Report:\")\n",
        "print(classification_report(y_true, y_pred_classes, target_names=class_names))"
      ],
      "metadata": {
        "colab": {
          "base_uri": "https://localhost:8080/"
        },
        "id": "c1_FvDcUvgVB",
        "outputId": "e7cf5284-baf6-44bf-e2ca-7bdf045e38e3"
      },
      "execution_count": null,
      "outputs": [
        {
          "output_type": "stream",
          "name": "stdout",
          "text": [
            "Classification Report:\n",
            "              precision    recall  f1-score   support\n",
            "\n",
            "    glaucoma       0.97      0.96      0.96       764\n",
            "      normal       0.96      0.97      0.96       801\n",
            "\n",
            "    accuracy                           0.96      1565\n",
            "   macro avg       0.96      0.96      0.96      1565\n",
            "weighted avg       0.96      0.96      0.96      1565\n",
            "\n"
          ]
        }
      ]
    },
    {
      "cell_type": "code",
      "source": [
        "model.save('XCEPTION_Classifier.h5')"
      ],
      "metadata": {
        "id": "RJlAujp-cKBz"
      },
      "execution_count": null,
      "outputs": []
    },
    {
      "cell_type": "code",
      "source": [
        "from keras.models import load_model\n",
        "from keras.preprocessing import image\n",
        "import numpy as np\n",
        "\n",
        "# Load your trained model\n",
        "model = load_model('/content/XCEPTION_Classifier.h5')\n",
        "\n",
        "# Load the image you want to test\n",
        "img_path = '/content/drive/MyDrive/gloucoma.jpg'\n",
        "img = image.load_img(img_path, target_size=(256, 256))\n",
        "\n",
        "# Convert the image to a numpy array\n",
        "img_array = image.img_to_array(img)\n",
        "\n",
        "# Expand dimensions so the model can accept the image\n",
        "img_array = np.expand_dims(img_array, axis=0)\n",
        "\n",
        "# Preprocess the image according to your model's requirements\n",
        "img_array /= 255.  # if your model expects images scaled between 0 and 1\n",
        "\n",
        "# Use the model to predict the image's class\n",
        "preds = model.predict(img_array)\n",
        "\n",
        "# For binary classification, we round the predictions to get the class\n",
        "pred_class = preds.round().astype(int)\n",
        "\n",
        "# Print the predicted class\n",
        "print('Predicted class:', pred_class[0])"
      ],
      "metadata": {
        "id": "knTS_vSKjrso",
        "colab": {
          "base_uri": "https://localhost:8080/"
        },
        "outputId": "342584d0-27ef-48ce-d800-dcc1425062fc"
      },
      "execution_count": null,
      "outputs": [
        {
          "output_type": "stream",
          "name": "stdout",
          "text": [
            "1/1 [==============================] - 1s 733ms/step\n",
            "Predicted class: [0]\n"
          ]
        }
      ]
    },
    {
      "cell_type": "code",
      "source": [
        "# Assuming class_names is your list of class names\n",
        "class_names = ['glaucoma', 'normal']\n",
        "\n",
        "# Get the class name\n",
        "class_name = class_names[pred_class[0][0]]\n",
        "\n",
        "# Print the class name\n",
        "print('Predicted class name:', class_name)"
      ],
      "metadata": {
        "colab": {
          "base_uri": "https://localhost:8080/"
        },
        "id": "PrCiBaODyoaV",
        "outputId": "31b67f39-627a-4d0b-d27f-353b5b952ff9"
      },
      "execution_count": null,
      "outputs": [
        {
          "output_type": "stream",
          "name": "stdout",
          "text": [
            "Predicted class name: glaucoma\n"
          ]
        }
      ]
    },
    {
      "cell_type": "code",
      "source": [
        "# Load the image you want to test\n",
        "img_path = '/content/drive/MyDrive/normal.jpg'\n",
        "img = image.load_img(img_path, target_size=(256, 256))\n",
        "\n",
        "# Convert the image to a numpy array\n",
        "img_array = image.img_to_array(img)\n",
        "\n",
        "# Expand dimensions so the model can accept the image\n",
        "img_array = np.expand_dims(img_array, axis=0)\n",
        "\n",
        "# Preprocess the image according to your model's requirements\n",
        "img_array /= 255.  # if your model expects images scaled between 0 and 1\n",
        "\n",
        "# Use the model to predict the image's class\n",
        "preds = model.predict(img_array)\n",
        "\n",
        "# For binary classification, we round the predictions to get the class\n",
        "pred_class = preds.round().astype(int)\n",
        "\n",
        "# Print the predicted class\n",
        "print('Predicted class:', pred_class[0])"
      ],
      "metadata": {
        "colab": {
          "base_uri": "https://localhost:8080/"
        },
        "id": "dOWjumd53jO6",
        "outputId": "035b868d-6cf2-431c-839a-178b7886c952"
      },
      "execution_count": null,
      "outputs": [
        {
          "output_type": "stream",
          "name": "stdout",
          "text": [
            "1/1 [==============================] - 0s 23ms/step\n",
            "Predicted class: [1]\n"
          ]
        }
      ]
    },
    {
      "cell_type": "code",
      "source": [
        "# Assuming class_names is your list of class names\n",
        "class_names = ['glaucoma', 'normal']\n",
        "\n",
        "# Get the class name\n",
        "class_name = class_names[pred_class[0][0]]\n",
        "\n",
        "# Print the class name\n",
        "print('Predicted class name:', class_name)"
      ],
      "metadata": {
        "colab": {
          "base_uri": "https://localhost:8080/"
        },
        "id": "IlztG0Rz3vdy",
        "outputId": "92063c70-1398-4832-f14e-27727b4acfac"
      },
      "execution_count": null,
      "outputs": [
        {
          "output_type": "stream",
          "name": "stdout",
          "text": [
            "Predicted class name: normal\n"
          ]
        }
      ]
    }
  ]
}